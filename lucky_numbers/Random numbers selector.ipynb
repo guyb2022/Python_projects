{
 "cells": [
  {
   "cell_type": "code",
   "execution_count": 1,
   "id": "67aaf062",
   "metadata": {},
   "outputs": [
    {
     "name": "stderr",
     "output_type": "stream",
     "text": [
      "C:\\Users\\berge\\anaconda3\\lib\\site-packages\\numpy\\_distributor_init.py:30: UserWarning: loaded more than 1 DLL from .libs:\n",
      "C:\\Users\\berge\\anaconda3\\lib\\site-packages\\numpy\\.libs\\libopenblas.PYQHXLVVQ7VESDPUVUADXEVJOBGHJPAY.gfortran-win_amd64.dll\n",
      "C:\\Users\\berge\\anaconda3\\lib\\site-packages\\numpy\\.libs\\libopenblas.WCDJNK7YVMPZQ2ME2ZZHJJRJ3JIKNDB7.gfortran-win_amd64.dll\n",
      "  warnings.warn(\"loaded more than 1 DLL from .libs:\\n%s\" %\n"
     ]
    }
   ],
   "source": [
    "import matplotlib.pyplot as plt\n",
    "import numpy as np\n",
    "import seaborn as sns\n",
    "import pandas as pd\n",
    "from matplotlib.colors import ListedColormap, LinearSegmentedColormap, Normalize\n",
    "import itertools\n",
    "from datetime import datetime\n",
    "from random import randint\n",
    "import numpy as np\n",
    "import matplotlib.pyplot as plt\n",
    "import time"
   ]
  },
  {
   "cell_type": "code",
   "execution_count": 2,
   "id": "f84f0dd2",
   "metadata": {},
   "outputs": [
    {
     "data": {
      "text/html": [
       "<div>\n",
       "<style scoped>\n",
       "    .dataframe tbody tr th:only-of-type {\n",
       "        vertical-align: middle;\n",
       "    }\n",
       "\n",
       "    .dataframe tbody tr th {\n",
       "        vertical-align: top;\n",
       "    }\n",
       "\n",
       "    .dataframe thead th {\n",
       "        text-align: right;\n",
       "    }\n",
       "</style>\n",
       "<table border=\"1\" class=\"dataframe\">\n",
       "  <thead>\n",
       "    <tr style=\"text-align: right;\">\n",
       "      <th></th>\n",
       "      <th>1</th>\n",
       "      <th>2</th>\n",
       "      <th>3</th>\n",
       "      <th>4</th>\n",
       "      <th>5</th>\n",
       "      <th>6</th>\n",
       "    </tr>\n",
       "  </thead>\n",
       "  <tbody>\n",
       "    <tr>\n",
       "      <th>0</th>\n",
       "      <td>1</td>\n",
       "      <td>2</td>\n",
       "      <td>8</td>\n",
       "      <td>19</td>\n",
       "      <td>31</td>\n",
       "      <td>33</td>\n",
       "    </tr>\n",
       "    <tr>\n",
       "      <th>1</th>\n",
       "      <td>6</td>\n",
       "      <td>10</td>\n",
       "      <td>13</td>\n",
       "      <td>20</td>\n",
       "      <td>23</td>\n",
       "      <td>35</td>\n",
       "    </tr>\n",
       "    <tr>\n",
       "      <th>2</th>\n",
       "      <td>3</td>\n",
       "      <td>4</td>\n",
       "      <td>5</td>\n",
       "      <td>15</td>\n",
       "      <td>24</td>\n",
       "      <td>33</td>\n",
       "    </tr>\n",
       "    <tr>\n",
       "      <th>3</th>\n",
       "      <td>1</td>\n",
       "      <td>8</td>\n",
       "      <td>18</td>\n",
       "      <td>25</td>\n",
       "      <td>29</td>\n",
       "      <td>30</td>\n",
       "    </tr>\n",
       "    <tr>\n",
       "      <th>4</th>\n",
       "      <td>1</td>\n",
       "      <td>4</td>\n",
       "      <td>5</td>\n",
       "      <td>24</td>\n",
       "      <td>31</td>\n",
       "      <td>32</td>\n",
       "    </tr>\n",
       "  </tbody>\n",
       "</table>\n",
       "</div>"
      ],
      "text/plain": [
       "   1   2   3   4   5   6\n",
       "0  1   2   8  19  31  33\n",
       "1  6  10  13  20  23  35\n",
       "2  3   4   5  15  24  33\n",
       "3  1   8  18  25  29  30\n",
       "4  1   4   5  24  31  32"
      ]
     },
     "execution_count": 2,
     "metadata": {},
     "output_type": "execute_result"
    }
   ],
   "source": [
    "df = pd.read_csv('Lotto.csv',names=['1','2','3','4','5','6'],header=None,skiprows=1)\n",
    "#df.drop(['index_num','Date','Extra'],axis=1,inplace=True)\n",
    "df.dropna(inplace=True)\n",
    "df = df.astype({\"1\": int,\"2\": int,\"3\": int,\"4\": int,\"5\": int,\"6\": int})\n",
    "df.head()"
   ]
  },
  {
   "cell_type": "code",
   "execution_count": 3,
   "id": "15c7b8d3",
   "metadata": {},
   "outputs": [
    {
     "data": {
      "text/plain": [
       "Text(0.5, 0, '6')"
      ]
     },
     "execution_count": 3,
     "metadata": {},
     "output_type": "execute_result"
    },
    {
     "data": {
      "image/png": "[encoded data removed]",
      "text/plain": [
       "<Figure size 720x432 with 6 Axes>"
      ]
     },
     "metadata": {
      "needs_background": "light"
     },
     "output_type": "display_data"
    }
   ],
   "source": [
    "fig = plt.figure(figsize=(10,6))\n",
    "fig.subplots_adjust(hspace=0.4, wspace=0.4)\n",
    "\n",
    "ax1 = fig.add_subplot(321)\n",
    "ax2 = fig.add_subplot(323)\n",
    "ax3 = fig.add_subplot(325)\n",
    "ax4 = fig.add_subplot(322)\n",
    "ax5 = fig.add_subplot(324)\n",
    "ax6 = fig.add_subplot(326)\n",
    "ax1.hist(df['1'],bins=100);\n",
    "ax1.set_xlabel(\"1\", fontsize =10)\n",
    "ax2.hist(df['2'],bins=100);\n",
    "ax2.set_xlabel(\"2\", fontsize =10)\n",
    "ax3.hist(df['3'],bins=100);\n",
    "ax3.set_xlabel(\"3\", fontsize =10)\n",
    "ax4.hist(df['4'],bins=100);\n",
    "ax4.set_xlabel(\"4\", fontsize =10)\n",
    "ax5.hist(df['5'],bins=100);\n",
    "ax5.set_xlabel(\"5\", fontsize =10)\n",
    "ax6.hist(df['6'],bins=100);\n",
    "ax6.set_xlabel(\"6\", fontsize =10)"
   ]
  },
  {
   "cell_type": "code",
   "execution_count": 4,
   "id": "efcd002e",
   "metadata": {},
   "outputs": [],
   "source": [
    "a1 = df['1'].value_counts().values.tolist()\n",
    "a1_index = df['1'].value_counts().index.tolist()\n",
    "\n",
    "a2 = df['2'].value_counts().values.tolist()\n",
    "a2_index = df['2'].value_counts().index.tolist()\n",
    "\n",
    "a3 = df['3'].value_counts().values.tolist()\n",
    "a3_index = df['3'].value_counts().index.tolist()\n",
    "\n",
    "a4 = df['4'].value_counts().values.tolist()\n",
    "a4_index = df['4'].value_counts().index.tolist()\n",
    "\n",
    "a5 = df['5'].value_counts().values.tolist()\n",
    "a5_index = df['5'].value_counts().index.tolist()\n",
    "\n",
    "a6 = df['6'].value_counts().values.tolist()\n",
    "a6_index = df['6'].value_counts().index.tolist()"
   ]
  },
  {
   "cell_type": "code",
   "execution_count": 38,
   "id": "de3585ed",
   "metadata": {},
   "outputs": [
    {
     "name": "stdout",
     "output_type": "stream",
     "text": [
      "[214, 164, 147, 121, 103, 92, 82, 69, 43, 40, 35, 32, 20, 18, 16, 10, 10, 7, 7, 4, 2, 1, 1, 1]\n",
      "[1, 2, 3, 4, 5, 6, 7, 8, 9, 11, 10, 12, 13, 15, 14, 16, 17, 18, 20, 19, 22, 21, 23, 24]\n",
      "length: 24\n",
      "-----------------------------\n",
      "[106, 95, 91, 83, 82, 76, 75, 69, 68, 59, 54, 52, 49, 40, 36, 35, 33, 33, 30, 26, 18, 9, 6, 5, 4, 3, 1, 1]\n",
      "1239\n",
      "[8, 6, 9, 10, 13, 5, 11, 12, 7, 16, 15, 3, 4, 14, 20, 17, 19, 2, 18, 21, 22, 24, 25, 23, 26, 27, 28, 32]\n",
      "length: 28\n",
      "-----------------------------\n",
      "[77, 75, 74, 73, 72, 70, 68, 67, 64, 62, 60, 55, 50, 45, 40, 33, 33, 33, 30, 29, 24, 22, 20, 18, 12, 11, 9, 7, 2, 2, 1, 1]\n",
      "[17, 12, 15, 14, 11, 10, 18, 13, 21, 19, 16, 22, 20, 9, 25, 8, 23, 26, 24, 7, 27, 28, 5, 6, 29, 4, 30, 3, 31, 32, 33, 34]\n",
      "length: 32\n",
      "-----------------------------\n",
      "[92, 77, 72, 71, 69, 67, 65, 63, 61, 60, 59, 51, 51, 49, 42, 39, 37, 36, 35, 34, 25, 15, 13, 13, 13, 12, 9, 4, 2, 1, 1, 1]\n",
      "[23, 20, 24, 22, 25, 19, 21, 27, 17, 26, 18, 30, 28, 16, 29, 31, 13, 14, 12, 15, 11, 32, 9, 34, 10, 33, 8, 7, 35, 5, 6, 4]\n",
      "length: 32\n",
      "-----------------------------\n",
      "[94, 91, 89, 87, 80, 79, 76, 70, 65, 62, 62, 60, 57, 45, 38, 36, 30, 28, 22, 18, 17, 14, 6, 5, 3, 2, 1, 1, 1]\n",
      "[28, 32, 26, 29, 27, 30, 25, 33, 31, 24, 34, 23, 35, 22, 20, 21, 36, 18, 19, 16, 17, 15, 12, 14, 13, 11, 9, 10, 7]\n",
      "length: 29\n",
      "-----------------------------\n",
      "[212, 164, 143, 121, 120, 76, 76, 74, 62, 42, 35, 28, 25, 13, 11, 11, 8, 6, 3, 3, 2, 2, 1, 1]\n",
      "[37, 36, 35, 33, 34, 32, 29, 31, 30, 28, 26, 27, 25, 22, 24, 23, 21, 20, 18, 17, 19, 16, 15, 13]\n",
      "length: 24\n"
     ]
    }
   ],
   "source": [
    "print(a1)\n",
    "print(a1_index)\n",
    "print(f\"length: {len(a1_index)}\")\n",
    "print(\"-----------------------------\")\n",
    "print(a2)\n",
    "print(sum(a2))\n",
    "print(a2_index)\n",
    "print(f\"length: {len(a2_index)}\")\n",
    "print(\"-----------------------------\")\n",
    "print(a3)\n",
    "print(a3_index)\n",
    "print(f\"length: {len(a3_index)}\")\n",
    "print(\"-----------------------------\")\n",
    "print(a4)\n",
    "print(a4_index)\n",
    "print(f\"length: {len(a4_index)}\")\n",
    "print(\"-----------------------------\")\n",
    "print(a5)\n",
    "print(a5_index)\n",
    "print(f\"length: {len(a5_index)}\")\n",
    "print(\"-----------------------------\")\n",
    "print(a6)\n",
    "print(a6_index)\n",
    "print(f\"length: {len(a6_index)}\")"
   ]
  },
  {
   "cell_type": "markdown",
   "id": "0d06a0f2",
   "metadata": {},
   "source": [
    "#### The additional number [1-7] distribute uniformly so we multiply by 7 each time"
   ]
  },
  {
   "cell_type": "code",
   "execution_count": 48,
   "id": "83addbb5",
   "metadata": {},
   "outputs": [
    {
     "data": {
      "text/plain": [
       "'11,716,911,360'"
      ]
     },
     "execution_count": 48,
     "metadata": {},
     "output_type": "execute_result"
    }
   ],
   "source": [
    "raw_num_of_options = 37*36*35*34*33*32*7\n",
    "\"{:,}\".format(raw_num_of_options)"
   ]
  },
  {
   "cell_type": "code",
   "execution_count": 50,
   "id": "1ac9ca13",
   "metadata": {},
   "outputs": [
    {
     "data": {
      "text/plain": [
       "'35,150,734,080.0'"
      ]
     },
     "execution_count": 50,
     "metadata": {},
     "output_type": "execute_result"
    }
   ],
   "source": [
    "# 10 choices per ticket with 30 Nis per ticket\n",
    "raw_price = raw_num_of_options/10*30\n",
    "\"{:,}\".format(raw_price)"
   ]
  },
  {
   "cell_type": "code",
   "execution_count": 56,
   "id": "0eca99fd",
   "metadata": {},
   "outputs": [
    {
     "data": {
      "text/plain": [
       "'3,352,559,616'"
      ]
     },
     "execution_count": 56,
     "metadata": {},
     "output_type": "execute_result"
    }
   ],
   "source": [
    "secondary_num_of_option = 24*28*32*32*29*24*7\n",
    "\"{:,}\".format(option)"
   ]
  },
  {
   "cell_type": "code",
   "execution_count": 58,
   "id": "e79825d2",
   "metadata": {},
   "outputs": [
    {
     "data": {
      "text/plain": [
       "'10,057,678,848'"
      ]
     },
     "execution_count": 58,
     "metadata": {},
     "output_type": "execute_result"
    }
   ],
   "source": [
    "secondary_cost = option*3\n",
    "\"{:,}\".format(secondary_cost)"
   ]
  },
  {
   "cell_type": "code",
   "execution_count": 39,
   "id": "07d0b49a",
   "metadata": {},
   "outputs": [],
   "source": [
    "def create_dict(a_value,a_index):\n",
    "    dic = {}\n",
    "    for index in range(len(a_value)):\n",
    "        if a_value[index] > 10:\n",
    "            dic[a_index[index]] = a_value[index]\n",
    "    return dic\n",
    "\n",
    "a1_dic = create_dict(a1,a1_index)\n",
    "a2_dic = create_dict(a2,a2_index)\n",
    "a3_dic = create_dict(a3,a3_index)\n",
    "a4_dic = create_dict(a4,a4_index)\n",
    "a5_dic = create_dict(a5,a5_index)\n",
    "a6_dic = create_dict(a6,a6_index)\n"
   ]
  },
  {
   "cell_type": "code",
   "execution_count": 40,
   "id": "ee2488b0",
   "metadata": {},
   "outputs": [],
   "source": [
    "data = [a1_dic,a2_dic,a3_dic,a4_dic,a5_dic,a6_dic]"
   ]
  },
  {
   "cell_type": "code",
   "execution_count": 41,
   "id": "76a026e8",
   "metadata": {},
   "outputs": [],
   "source": [
    "sol = list(itertools.product(*data))"
   ]
  },
  {
   "cell_type": "code",
   "execution_count": 47,
   "id": "cbab04f8",
   "metadata": {},
   "outputs": [
    {
     "data": {
      "text/plain": [
       "'14,572,523'"
      ]
     },
     "execution_count": 47,
     "metadata": {},
     "output_type": "execute_result"
    }
   ],
   "source": [
    "final_sol = []\n",
    "\n",
    "for i in range(len(sol)):\n",
    "    if(sol[i][0] < sol[i][1]< sol[i][2] < sol[i][3] < sol[i][4] < sol[i][5]):\n",
    "        final_sol.append(sol[i])\n",
    "        \n"
   ]
  },
  {
   "cell_type": "code",
   "execution_count": 52,
   "id": "535862a9",
   "metadata": {},
   "outputs": [
    {
     "data": {
      "text/plain": [
       "'14,572,523'"
      ]
     },
     "execution_count": 52,
     "metadata": {},
     "output_type": "execute_result"
    }
   ],
   "source": [
    "final_comb = len(final_sol) * 7\n",
    "\"{:,}\".format(final_comb)"
   ]
  },
  {
   "cell_type": "code",
   "execution_count": 53,
   "id": "b17fff7d",
   "metadata": {},
   "outputs": [
    {
     "data": {
      "text/plain": [
       "'43,717,569'"
      ]
     },
     "execution_count": 53,
     "metadata": {},
     "output_type": "execute_result"
    }
   ],
   "source": [
    "final_price = final_comb * 3\n",
    "\"{:,}\".format(final_price)"
   ]
  },
  {
   "cell_type": "code",
   "execution_count": 57,
   "id": "6af42c7f",
   "metadata": {},
   "outputs": [
    {
     "data": {
      "text/plain": [
       "230.06034136985065"
      ]
     },
     "execution_count": 57,
     "metadata": {},
     "output_type": "execute_result"
    }
   ],
   "source": [
    "secondary_num_of_option/final_comb"
   ]
  },
  {
   "cell_type": "markdown",
   "id": "084fe381",
   "metadata": {},
   "source": [
    "### This part belong to the path finder from 1 - 6 from given options "
   ]
  },
  {
   "cell_type": "code",
   "execution_count": null,
   "id": "4c5a5bcd",
   "metadata": {},
   "outputs": [],
   "source": [
    "# To find a path from a-b\n",
    "def find_path(mat,i,j,path,ans):\n",
    "    # base case\n",
    "    (M, N) = (len(mat), len(mat[0]))\n",
    "    if j == N-1 :      \n",
    "        return ans.append(path + [mat[i][j]])\n",
    "    i_choise = randint(-1,1)\n",
    "    path.append(mat[i][j])\n",
    "    # move right and down/up\n",
    "    if 0 <= i+i_choise < M and j+1 < N:\n",
    "        i += i_choise \n",
    "        j += 1\n",
    "        find_path(mat, i, j,path,ans)\n",
    "        path.pop()"
   ]
  },
  {
   "cell_type": "code",
   "execution_count": null,
   "id": "b2e07b15",
   "metadata": {},
   "outputs": [],
   "source": [
    "# Choose random numbers from matrix\n",
    "# By random walk from 0 to J column\n",
    "def find_num(mat,i,j):\n",
    "    (M, N) = (len(mat), len(mat[0]))\n",
    "    while(j < N-1):\n",
    "        i_choise = randint(-1,1)\n",
    "        # move right and down/up\n",
    "        if 0 <= i+i_choise < M and j+1 < N:\n",
    "            i += i_choise \n",
    "        j += 1\n",
    "        print(i,j)\n",
    "    return i+1"
   ]
  },
  {
   "cell_type": "code",
   "execution_count": null,
   "id": "aa0d4d38",
   "metadata": {},
   "outputs": [],
   "source": [
    "# Flattern the netsted list\n",
    "def flatten(t):\n",
    "    return [item for sublist in t for item in sublist]"
   ]
  },
  {
   "cell_type": "code",
   "execution_count": null,
   "id": "407499b1",
   "metadata": {},
   "outputs": [],
   "source": [
    "# init the master matrix\n",
    "# To hold all initial values at the last column J (1,2,3...)\n",
    "# For each coresponding row (1-6)\n",
    "def init_mat():\n",
    "    size = 37\n",
    "    mat = []\n",
    "    for index in range(size):\n",
    "        mat.append(np.zeros((size,size)))\n",
    "        mat[index][:,-1] = np.arange(1,size+1)\n",
    "        mat[index] = mat[index].astype(int)\n",
    "        mat[index] = mat[index].tolist()\n",
    "    return mat"
   ]
  },
  {
   "cell_type": "code",
   "execution_count": null,
   "id": "a0e47f3c",
   "metadata": {},
   "outputs": [],
   "source": [
    "def create_numbers(row_limit,mat):\n",
    "    \"\"\"Create solutions in of limit size\"\"\"\n",
    "    sol,final_sol,flat_list = [],[],[]\n",
    "    # Can be done in one of three options:\n",
    "    # choose the mean\n",
    "    # Choose the Max\n",
    "    # Choose the Median\n",
    "    means = [int(max(a1_dic, key=a1_dic.get)-1),int(max(a2_dic, key=a2_dic.get)-1),\n",
    "             int(max(a3_dic, key=a3_dic.get)-1),int(max(a4_dic, key=a4_dic.get)-1),\n",
    "             int(max(a5_dic, key=a5_dic.get)-1),int(max(a6_dic, key=a6_dic.get)-1)]\n",
    "    #means = [0,9,15,22,27,36]\n",
    "    count = 0\n",
    "    while count < row_limit:\n",
    "        for index in range(6):\n",
    "            sol.append(find_num(mat,means[index],0))\n",
    "        if(sol[0]<sol[1]<sol[2]<sol[3]<sol[4]<sol[5]):\n",
    "            final_sol.append(sol)\n",
    "            count += 1\n",
    "        sol = []\n",
    "    #for item in final_sol:\n",
    "    #    flat_list.append(flatten(item))\n",
    "    return final_sol"
   ]
  },
  {
   "cell_type": "code",
   "execution_count": null,
   "id": "de2cddfa",
   "metadata": {},
   "outputs": [],
   "source": [
    "def compare_lists(s1,t1):\n",
    "    count = 0\n",
    "    for item in s1:\n",
    "        if item in t1:\n",
    "            count += 1\n",
    "    return count"
   ]
  },
  {
   "cell_type": "code",
   "execution_count": null,
   "id": "0cfd4d4f",
   "metadata": {},
   "outputs": [],
   "source": [
    "def check_for_wins(sol,targets):\n",
    "    # The winning is not real, just a constant weight that we can compare to \n",
    "    # for each selection and model\n",
    "    wining = {\n",
    "    6 : 500000,\n",
    "    5 : 500,\n",
    "    4 : 50,\n",
    "    3 : 10,\n",
    "    2 : 0,\n",
    "    1 : 0, \n",
    "    0 : 0}\n",
    "    price = -5*len(targets)\n",
    "    for target in targets:\n",
    "        print(sol,target)\n",
    "        price += wining[compare_lists(sol,target)]\n",
    "    return price\n",
    "            "
   ]
  },
  {
   "cell_type": "code",
   "execution_count": 54,
   "id": "c4ad9121",
   "metadata": {},
   "outputs": [],
   "source": [
    "# Last part of the code was deleted, need to recover it...."
   ]
  },
  {
   "cell_type": "code",
   "execution_count": null,
   "id": "3f6f37b4",
   "metadata": {},
   "outputs": [],
   "source": []
  }
 ],
 "metadata": {
  "kernelspec": {
   "display_name": "Python 3 (ipykernel)",
   "language": "python",
   "name": "python3"
  },
  "language_info": {
   "codemirror_mode": {
    "name": "ipython",
    "version": 3
   },
   "file_extension": ".py",
   "mimetype": "text/x-python",
   "name": "python",
   "nbconvert_exporter": "python",
   "pygments_lexer": "ipython3",
   "version": "3.8.8"
  }
 },
 "nbformat": 4,
 "nbformat_minor": 5
}
